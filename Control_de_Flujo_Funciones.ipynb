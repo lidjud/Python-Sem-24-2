{
  "nbformat": 4,
  "nbformat_minor": 0,
  "metadata": {
    "colab": {
      "provenance": [],
      "authorship_tag": "ABX9TyPj3CPh4HDP+yyz/qfzI2BV",
      "include_colab_link": true
    },
    "kernelspec": {
      "name": "python3",
      "display_name": "Python 3"
    },
    "language_info": {
      "name": "python"
    }
  },
  "cells": [
    {
      "cell_type": "markdown",
      "metadata": {
        "id": "view-in-github",
        "colab_type": "text"
      },
      "source": [
        "<a href=\"https://colab.research.google.com/github/lidjud/Python-Sem-24-2/blob/main/Control_de_Flujo_Funciones.ipynb\" target=\"_parent\"><img src=\"https://colab.research.google.com/assets/colab-badge.svg\" alt=\"Open In Colab\"/></a>"
      ]
    },
    {
      "cell_type": "markdown",
      "source": [
        "#While"
      ],
      "metadata": {
        "id": "h18igUewqezC"
      }
    },
    {
      "cell_type": "markdown",
      "source": [
        "Un bucle while realiza una operación mientras (while, en inglés) una determinada condición es True."
      ],
      "metadata": {
        "id": "R0eDepy-6fwp"
      }
    },
    {
      "cell_type": "markdown",
      "source": [
        "La sintaxis de un bucle while es similar a la de una instrucción if. Proporcione una condición y el código que quiere ejecutar mientras la condición sea True.\n",
        "\n",
        "```\n",
        "while <condition>:\n",
        "    # code here\n",
        "```\n",
        "\n",
        "\n",
        "\n"
      ],
      "metadata": {
        "id": "qoJhWIZG6rwR"
      }
    },
    {
      "cell_type": "code",
      "source": [
        "usuario = ''\n",
        "\n",
        "while usuario.lower() != 'done':\n",
        "  usuario = input(\"Escribe cuál es tu comida favorita: \")"
      ],
      "metadata": {
        "id": "2mW09DdR67sw",
        "colab": {
          "base_uri": "https://localhost:8080/"
        },
        "outputId": "8aa00d2d-be93-4b7b-b7db-c266ac8ae835"
      },
      "execution_count": 2,
      "outputs": [
        {
          "name": "stdout",
          "output_type": "stream",
          "text": [
            "Escribe cuál es tu comida favorita: Done\n"
          ]
        }
      ]
    },
    {
      "cell_type": "code",
      "source": [
        "print(usuario)"
      ],
      "metadata": {
        "id": "SpIXzOXy7j71",
        "colab": {
          "base_uri": "https://localhost:8080/"
        },
        "outputId": "b1408646-b6f4-4f7d-ca9f-d43509717537"
      },
      "execution_count": 3,
      "outputs": [
        {
          "output_type": "stream",
          "name": "stdout",
          "text": [
            "Done\n"
          ]
        }
      ]
    },
    {
      "cell_type": "code",
      "source": [
        "# Crea una variable para la entrada del usuario\n",
        "usuario =''\n",
        "# Crea una lista para almacenar los valores que ingresa el usuario\n",
        "comida = []\n",
        "\n",
        "# While loop\n",
        "while usuario.lower() != 'done':\n",
        "  # Verfica si hay un valor en usuario\n",
        "  if usuario:\n",
        "    # Almacena el valor en la lista\n",
        "    comida.append(usuario)\n",
        "  # Prompt para nuevo valor\n",
        "  usuario = input(\"Escribe cuál es tu comida favorita: \")"
      ],
      "metadata": {
        "id": "JAVqo-cI8DIR"
      },
      "execution_count": null,
      "outputs": []
    },
    {
      "cell_type": "markdown",
      "source": [
        "# Uso del bucle For"
      ],
      "metadata": {
        "id": "gp73ON-WCi1J"
      }
    },
    {
      "cell_type": "markdown",
      "source": [
        "Las listas de Python son iterables y se pueden usar con un bucle for. Se usa un bucle for con objetos iterables que va a recorrer en bucle un número conocido de veces, una vez para cada elemento del objeto iterable."
      ],
      "metadata": {
        "id": "Q_8HDgJHCx5A"
      }
    },
    {
      "cell_type": "code",
      "source": [
        "regresiva = [5, 4, 3, 2, 1, 0]\n",
        "for numero in regresiva:\n",
        "    print(numero)\n",
        "print(\"Despegue!! 🚀\")"
      ],
      "metadata": {
        "id": "C0H2xWGEq3W7"
      },
      "execution_count": null,
      "outputs": []
    },
    {
      "cell_type": "code",
      "source": [
        "from time import sleep\n",
        "\n",
        "regresiva = [5, 4, 3, 2, 1, 0]\n",
        "\n",
        "for numero in regresiva:\n",
        "    print(numero)\n",
        "    sleep(1)  # Wait 1 second\n",
        "print(\"Despegue!! 🚀\")"
      ],
      "metadata": {
        "id": "-5bmwlRXDKKJ"
      },
      "execution_count": null,
      "outputs": []
    },
    {
      "cell_type": "code",
      "source": [
        "# Fetch the dataset using the raw GitHub URL.\n",
        "!curl --remote-name \\\n",
        "     -H 'Accept: application/vnd.github.v3.raw' \\\n",
        "     --location https://raw.githubusercontent.com/lidjud/Python-sem-23_1/main/verso.txt"
      ],
      "metadata": {
        "id": "cGF5NS-rlzgY"
      },
      "execution_count": null,
      "outputs": []
    },
    {
      "cell_type": "code",
      "source": [
        "# Fetch the dataset using the raw GitHub URL.\n",
        "!curl --remote-name \\\n",
        "     -H 'Accept: application/vnd.github.v3.raw' \\\n",
        "     --location https://raw.githubusercontent.com/lidjud/prueba02/main/versotriste.txt"
      ],
      "metadata": {
        "id": "BRgKnrHXt8Hr"
      },
      "execution_count": null,
      "outputs": []
    },
    {
      "cell_type": "code",
      "source": [
        "words = []\n",
        "# Abrir el archivo guardado en github\n",
        "with open(\"versotriste.txt\", \"r\", encoding='latin-1') as f:\n",
        "    for line in f:\n",
        "        words.extend(line.split())\n",
        "    print(words)"
      ],
      "metadata": {
        "id": "mK2YMiPDDfDp"
      },
      "execution_count": null,
      "outputs": []
    },
    {
      "cell_type": "code",
      "source": [
        "print(words)"
      ],
      "metadata": {
        "id": "WA1h1EeNuFqr"
      },
      "execution_count": null,
      "outputs": []
    },
    {
      "cell_type": "markdown",
      "source": [
        "# Funciones\n",
        "\n",
        "Una función es un bloque de código que solo se ejecuta cuando se le llama.\n",
        "\n",
        "Puede pasar datos, conocidos como parámetros, a una función.\n",
        "\n",
        "Una función puede devolver datos como resultado."
      ],
      "metadata": {
        "id": "7YPPn7nDvfkr"
      }
    },
    {
      "cell_type": "markdown",
      "source": [
        "En Python, una función se define usando la palabra clave def :"
      ],
      "metadata": {
        "id": "AOob8eB8vkeE"
      }
    },
    {
      "cell_type": "code",
      "source": [
        "def my_function():\n",
        "  print(\"Hello from a function\")"
      ],
      "metadata": {
        "id": "EvPWGVKyveTE"
      },
      "execution_count": null,
      "outputs": []
    },
    {
      "cell_type": "markdown",
      "source": [
        "Para llamar a una función, usa el nombre de la función seguido de paréntesis:"
      ],
      "metadata": {
        "id": "PNgbUAWwvpMk"
      }
    },
    {
      "cell_type": "code",
      "source": [
        "def my_function():\n",
        "  print(\"Hello from a function\")\n",
        "\n",
        "my_function()"
      ],
      "metadata": {
        "id": "gLqlORtrvsCs"
      },
      "execution_count": null,
      "outputs": []
    },
    {
      "cell_type": "code",
      "source": [
        "def my_function(fname):\n",
        "  print(fname + \" Refsnes\")\n",
        "\n",
        "my_function(\"Emil\")\n",
        "my_function(\"Tobias\")\n",
        "my_function(\"Linus\")"
      ],
      "metadata": {
        "id": "gnmYiZM3v2g0"
      },
      "execution_count": null,
      "outputs": []
    },
    {
      "cell_type": "markdown",
      "source": [
        "Desde la perspectiva de una función:\n",
        "\n",
        "Un parámetro es la variable que aparece entre paréntesis en la definición de la función.\n",
        "\n",
        "Un argumento es el valor que se envía a la función cuando se llama."
      ],
      "metadata": {
        "id": "m98BQglxv63r"
      }
    },
    {
      "cell_type": "code",
      "source": [
        "def my_function(fname, lname):\n",
        "  print(fname + \" \" + lname)\n",
        "\n",
        "my_function(\"Emil\", \"Refsnes\")"
      ],
      "metadata": {
        "id": "Wiy3tVbPwA9E"
      },
      "execution_count": null,
      "outputs": []
    },
    {
      "cell_type": "markdown",
      "source": [
        "Pasar una lista como argumento\n",
        "\n",
        "Puedes enviar cualquier tipo de datos de argumento a una función (cadena, número, lista, diccionario, etc.), y se tratará como el mismo tipo de datos dentro de la función."
      ],
      "metadata": {
        "id": "IHsE1yJ3wKx0"
      }
    },
    {
      "cell_type": "markdown",
      "source": [
        "### Argumentos\n",
        "La información se puede pasar a funciones como argumentos.\n",
        "\n",
        "Los argumentos se especifican después del nombre de la función, entre paréntesis. Puedes agregar tantos argumentos como desee, simplemente sepáralos con una coma.\n",
        "\n",
        "El siguiente ejemplo tiene una función con un argumento (fname). Cuando se llama a la función, pasamos un nombre, que se usa dentro de la función para imprimir el nombre completo:"
      ],
      "metadata": {
        "id": "KiYYsD0avuuj"
      }
    },
    {
      "cell_type": "code",
      "source": [
        "def my_function(food):\n",
        "  for x in food:\n",
        "    print(x)\n",
        "\n",
        "fruits = [\"apple\", \"banana\", \"cherry\"]\n",
        "\n",
        "my_function(fruits)"
      ],
      "metadata": {
        "id": "XROSIowewQp8"
      },
      "execution_count": null,
      "outputs": []
    },
    {
      "cell_type": "markdown",
      "source": [
        "###Valores devueltos\n",
        "\n",
        "Para permitir que una función devuelva un valor, use la return declaración:"
      ],
      "metadata": {
        "id": "c7XBAXV9wRT8"
      }
    },
    {
      "cell_type": "code",
      "source": [
        "def my_function(x):\n",
        "  return 5 * x\n",
        "\n",
        "print(my_function(3))\n",
        "print(my_function(5))\n",
        "print(my_function(9))"
      ],
      "metadata": {
        "id": "KrBEY9krwTxD"
      },
      "execution_count": null,
      "outputs": []
    },
    {
      "cell_type": "markdown",
      "source": [
        "# Reto 🦾"
      ],
      "metadata": {
        "id": "d71Ryd2VnELh"
      }
    },
    {
      "cell_type": "markdown",
      "source": [
        "1. En cuenta de GitHub, sube un archivo de texto \"archivo.txt\".\n",
        "2. Realiza un programa que despliegue en pantalla un menú para el usuario con las siguientes funciones:\n",
        "\n",
        "  a. Juega con peraciones básicas matemáticas\n",
        "\n",
        "  b. Juego de palabras\n",
        "  \n",
        "  c. Salir del programa\n",
        "\n",
        "\n",
        "3. Si el usuario elige la opción a, deberá acceder a otro menú donde le permita realizar diferentes cálculos matemáticos. Estos cálculos de tener su propia función cada uno de ellos.\n",
        "\n",
        "4. Si el usuario elige la opción b, deberá desplegarse en pantalla otro menú con las siguientes opciones:\n",
        "\n",
        "  a. Leer el texto\n",
        "\n",
        "  b. Top 10 de las palabras que tienen mayor frecuencia (que más se repiten en el texto)\n",
        "\n",
        "  c. Gráfico de las palabras que tienen mayor frecuencia (que más se repiten en el texto)\n",
        "\n",
        "\n",
        "5. Es importante mencionar que deberás hacer un preprocesamiento de tus palabras.\n",
        "\n",
        "  a. Hacer una lista de las palabras más comunes y que no aportan información (por ejemplo: artículos (la, el, etc.), preposiciones (para, por, etc.)). Deberás crear tu algoritmo que te permita eliminar estas palabras de tu texto. **No puedes usar métodos o funciones ya establecidos en python**.\n",
        "\n",
        "  b. Crea tu algoritmo que te permita contabilizar cada una de las palabras de tu texto. Puedes usar ciclos, algoritmos de ordenamiento, etc. excepto métodos ya establecidos en python.\n"
      ],
      "metadata": {
        "id": "qGb6YBjYlZZB"
      }
    },
    {
      "cell_type": "code",
      "source": [],
      "metadata": {
        "id": "tJBG2GOI0z5g"
      },
      "execution_count": null,
      "outputs": []
    }
  ]
}