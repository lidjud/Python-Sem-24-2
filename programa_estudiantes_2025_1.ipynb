{
  "nbformat": 4,
  "nbformat_minor": 0,
  "metadata": {
    "colab": {
      "provenance": [],
      "authorship_tag": "ABX9TyMHnnH6WBGzvnxoO5DJf5y6",
      "include_colab_link": true
    },
    "kernelspec": {
      "name": "python3",
      "display_name": "Python 3"
    },
    "language_info": {
      "name": "python"
    }
  },
  "cells": [
    {
      "cell_type": "markdown",
      "metadata": {
        "id": "view-in-github",
        "colab_type": "text"
      },
      "source": [
        "<a href=\"https://colab.research.google.com/github/lidjud/Python-Sem-24-2/blob/main/programa_estudiantes_2025_1.ipynb\" target=\"_parent\"><img src=\"https://colab.research.google.com/assets/colab-badge.svg\" alt=\"Open In Colab\"/></a>"
      ]
    },
    {
      "cell_type": "code",
      "source": [
        "print(\"hola 'esta es nuestra segunda clase' \")"
      ],
      "metadata": {
        "id": "38Pe0LaqSvQg",
        "colab": {
          "base_uri": "https://localhost:8080/",
          "height": 0
        },
        "outputId": "defcc39b-9c20-4b57-93d6-8962b18af57e"
      },
      "execution_count": 4,
      "outputs": [
        {
          "output_type": "stream",
          "name": "stdout",
          "text": [
            "hola 'esta es nuestra segunda clase' \n"
          ]
        }
      ]
    },
    {
      "cell_type": "code",
      "source": [
        "print('hola' + \" \" +\"estudiantes\")"
      ],
      "metadata": {
        "colab": {
          "base_uri": "https://localhost:8080/",
          "height": 0
        },
        "id": "A2v9JUQwSLWF",
        "outputId": "abff7e9f-395c-4434-e4ba-051cc9dba21e"
      },
      "execution_count": 6,
      "outputs": [
        {
          "output_type": "stream",
          "name": "stdout",
          "text": [
            "hola estudiantes\n"
          ]
        }
      ]
    },
    {
      "cell_type": "code",
      "source": [
        "input(\"Escribre tu nombre\\n\")"
      ],
      "metadata": {
        "colab": {
          "base_uri": "https://localhost:8080/",
          "height": 70
        },
        "id": "W9ZrJgexSSgQ",
        "outputId": "bd0898a3-b22e-4c30-a714-011b21d07eb4"
      },
      "execution_count": 8,
      "outputs": [
        {
          "name": "stdout",
          "output_type": "stream",
          "text": [
            "Escribre tu nombre\n",
            "Lidia\n"
          ]
        },
        {
          "output_type": "execute_result",
          "data": {
            "text/plain": [
              "'Lidia'"
            ],
            "application/vnd.google.colaboratory.intrinsic+json": {
              "type": "string"
            }
          },
          "metadata": {},
          "execution_count": 8
        }
      ]
    },
    {
      "cell_type": "code",
      "source": [
        "# función print manda a imprimir un mensaje en pantalla"
      ],
      "metadata": {
        "id": "0JymKCztTJQG"
      },
      "execution_count": 9,
      "outputs": []
    },
    {
      "cell_type": "code",
      "source": [
        "# función input solicita información al usuario\n",
        "input(\"Escribe tu nombre\\n\")"
      ],
      "metadata": {
        "colab": {
          "base_uri": "https://localhost:8080/",
          "height": 70
        },
        "id": "oome-h98T0t7",
        "outputId": "3c90ec8b-ab30-4a13-8139-994a1d9d10cc"
      },
      "execution_count": 11,
      "outputs": [
        {
          "name": "stdout",
          "output_type": "stream",
          "text": [
            "Escribe tu nombre\n",
            "Lidia\n"
          ]
        },
        {
          "output_type": "execute_result",
          "data": {
            "text/plain": [
              "'Lidia'"
            ],
            "application/vnd.google.colaboratory.intrinsic+json": {
              "type": "string"
            }
          },
          "metadata": {},
          "execution_count": 11
        }
      ]
    },
    {
      "cell_type": "code",
      "source": [
        "# generar una variable para guardar el nombre\n",
        "nombre = input(\"Escribe tu nombre\\n\")"
      ],
      "metadata": {
        "colab": {
          "base_uri": "https://localhost:8080/",
          "height": 0
        },
        "id": "Kc1RaXbmUAEN",
        "outputId": "275ac5d7-f283-4437-80ee-c35307f68431"
      },
      "execution_count": 12,
      "outputs": [
        {
          "name": "stdout",
          "output_type": "stream",
          "text": [
            "Escribe tu nombre\n",
            "Lidia\n"
          ]
        }
      ]
    },
    {
      "cell_type": "code",
      "source": [
        "print(nombre)"
      ],
      "metadata": {
        "colab": {
          "base_uri": "https://localhost:8080/",
          "height": 0
        },
        "id": "lIAwwXhaVu-m",
        "outputId": "9e12ced4-ebd9-40dc-8b04-65abe2c470fc"
      },
      "execution_count": 13,
      "outputs": [
        {
          "output_type": "stream",
          "name": "stdout",
          "text": [
            "Lidia\n"
          ]
        }
      ]
    },
    {
      "cell_type": "code",
      "source": [
        "# La función type me permite saber qué tipo de variable estoy utulizando\n",
        "type(nombre)"
      ],
      "metadata": {
        "colab": {
          "base_uri": "https://localhost:8080/",
          "height": 0
        },
        "id": "ZYYg3LobVxsM",
        "outputId": "6503ac6a-e973-48fe-a83c-ce8e013e599b"
      },
      "execution_count": 14,
      "outputs": [
        {
          "output_type": "execute_result",
          "data": {
            "text/plain": [
              "str"
            ]
          },
          "metadata": {},
          "execution_count": 14
        }
      ]
    },
    {
      "cell_type": "code",
      "source": [
        "# La función len(a) me permite calcular la longitud de una cadena\n",
        "print(len(nombre))"
      ],
      "metadata": {
        "colab": {
          "base_uri": "https://localhost:8080/",
          "height": 0
        },
        "id": "4XQ4neaEV7Ec",
        "outputId": "839f285d-34bd-4669-df68-fda4da3f178f"
      },
      "execution_count": 15,
      "outputs": [
        {
          "output_type": "stream",
          "name": "stdout",
          "text": [
            "5\n"
          ]
        }
      ]
    },
    {
      "cell_type": "code",
      "source": [
        "longitud = len(nombre)\n",
        "print(type(longitud))"
      ],
      "metadata": {
        "colab": {
          "base_uri": "https://localhost:8080/",
          "height": 0
        },
        "id": "Kl0ZYRPeXFt-",
        "outputId": "799785ab-0a5c-4021-e2ac-2ac63eff73d2"
      },
      "execution_count": 16,
      "outputs": [
        {
          "output_type": "stream",
          "name": "stdout",
          "text": [
            "<class 'int'>\n"
          ]
        }
      ]
    },
    {
      "cell_type": "code",
      "source": [
        "print(longitud)"
      ],
      "metadata": {
        "colab": {
          "base_uri": "https://localhost:8080/",
          "height": 0
        },
        "id": "NN4bA4pJXqik",
        "outputId": "a060b9ee-a606-426b-e80f-82087b73ad10"
      },
      "execution_count": 17,
      "outputs": [
        {
          "output_type": "stream",
          "name": "stdout",
          "text": [
            "5\n"
          ]
        }
      ]
    },
    {
      "cell_type": "markdown",
      "source": [
        "Generar un programa donde imprimas en pantalla un mensaje de bienvenida al usuario.\n",
        "\n",
        "Solicita al usuario el nombre de su mascota.\n",
        "\n",
        "Solicita al usuario el nombre de su ciudad favorita.\n",
        "\n",
        "Generar un número aleatorio entero.\n",
        "\n",
        "Con estas tres variables vas a crear una contraseña para el usuario concatenando cada una de estas variables.\n",
        "\n",
        "Imprime un mensaje al final con la contraseña."
      ],
      "metadata": {
        "id": "7ZLbR-cAXz5k"
      }
    },
    {
      "cell_type": "code",
      "source": [],
      "metadata": {
        "id": "3N8p5oNYYBeb"
      },
      "execution_count": null,
      "outputs": []
    }
  ]
}