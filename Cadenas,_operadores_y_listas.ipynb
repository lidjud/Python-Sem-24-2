{
  "nbformat": 4,
  "nbformat_minor": 0,
  "metadata": {
    "colab": {
      "provenance": [],
      "authorship_tag": "ABX9TyPvHDKR5Zs2Fw0h76A5zIlk",
      "include_colab_link": true
    },
    "kernelspec": {
      "name": "python3",
      "display_name": "Python 3"
    },
    "language_info": {
      "name": "python"
    }
  },
  "cells": [
    {
      "cell_type": "markdown",
      "metadata": {
        "id": "view-in-github",
        "colab_type": "text"
      },
      "source": [
        "<a href=\"https://colab.research.google.com/github/lidjud/Python-Sem-24-2/blob/main/Cadenas%2C_operadores_y_listas.ipynb\" target=\"_parent\"><img src=\"https://colab.research.google.com/assets/colab-badge.svg\" alt=\"Open In Colab\"/></a>"
      ]
    },
    {
      "cell_type": "markdown",
      "source": [
        "## Métodos de Cadena"
      ],
      "metadata": {
        "id": "EuzV5R-0DQqH"
      }
    },
    {
      "cell_type": "markdown",
      "source": [
        "Los **métodos** de cadena forman parte del tipo `str`. Esto significa que los métodos existen como variables de cadena o directamente como parte de la cadena. Por ejemplo, el método `.title()` devuelve la cadena en mayúsculas y se puede usar directamente con una cadena:"
      ],
      "metadata": {
        "id": "l2s3OWgHDXib"
      }
    },
    {
      "cell_type": "code",
      "source": [
        "titulo = \"el cerebro humano\"\n",
        "print(titulo.title())"
      ],
      "metadata": {
        "id": "0IuvfH0xDKxL"
      },
      "execution_count": null,
      "outputs": []
    },
    {
      "cell_type": "code",
      "source": [
        "titulo_principal = titulo.title()\n",
        "print(titulo_principal)"
      ],
      "metadata": {
        "id": "P49AMMVGD_gb"
      },
      "execution_count": null,
      "outputs": []
    },
    {
      "cell_type": "markdown",
      "source": [
        "## División de Cadenas"
      ],
      "metadata": {
        "id": "R-DBe69IEehL"
      }
    },
    {
      "cell_type": "markdown",
      "source": [
        "Un método de cadena es `.split()`. **Sin argumentos**, el método **separará la cadena en cada espacio**. Esto crearía una lista de todas las palabras o números separados por un espacio:"
      ],
      "metadata": {
        "id": "8rw1dsa0Epyz"
      }
    },
    {
      "cell_type": "code",
      "source": [
        "parrafo_3 = \"La evolución del cerebro, a través de los primates hasta los homínidos, se caracteriza por un aumento constante en la encefalización. La encefalización es la relación del cerebro con el tamaño corporal.\"\n",
        "parrafo_3_enunciados = parrafo_3.split()\n",
        "print(parrafo_3_enunciados)"
      ],
      "metadata": {
        "id": "yD9uYWbjEa_s"
      },
      "execution_count": null,
      "outputs": []
    },
    {
      "cell_type": "code",
      "source": [
        "parrafo_4 =\"El humano adulto tiene un volumen cerebral \\ncalculado en promedio, de 1300 centímetros cúbicos.\"\n",
        "parrafo_4_enunciados = parrafo_4.split('\\n')\n",
        "print(parrafo_4_enunciados)"
      ],
      "metadata": {
        "id": "JYtcCOVPLUa-"
      },
      "execution_count": null,
      "outputs": []
    },
    {
      "cell_type": "markdown",
      "source": [
        "## Búsqueda de una Cadena"
      ],
      "metadata": {
        "id": "Jrd7JmO8Mitb"
      }
    },
    {
      "cell_type": "markdown",
      "source": [
        "La manera más sencilla ☝ de detectar si existe una palabra, un carácter o un grupo de caracteres determinados en una cadena es usar el operador `in`:"
      ],
      "metadata": {
        "id": "sLJpEboaMoCs"
      }
    },
    {
      "cell_type": "code",
      "source": [
        "print(\"luna\" in \"El cerebro humano se encarga tanto de regular y mantener cada función vital del cuerpo, \\ncomo de ser el órgano donde reside la 'mente' y la 'conciencia' del individuo.\")"
      ],
      "metadata": {
        "id": "04_5YWwyKxZL"
      },
      "execution_count": null,
      "outputs": []
    },
    {
      "cell_type": "code",
      "source": [
        "print(\"mente\" in \"El cerebro humano se encarga tanto de regular y mantener cada función vital del cuerpo, \\ncomo de ser el órgano donde reside la 'mente' y la 'conciencia' del individuo.\")"
      ],
      "metadata": {
        "id": "zqF7MFCFNNb_"
      },
      "execution_count": null,
      "outputs": []
    },
    {
      "cell_type": "markdown",
      "source": [
        "Para buscar 🔎 la posición de una palabra específica en una cadena usamos el método `.find()`:"
      ],
      "metadata": {
        "id": "22m_xVG0NREi"
      }
    },
    {
      "cell_type": "code",
      "source": [
        "parrafo_4 =\"El humano adulto tiene un volumen cerebral \\ncalculado en promedio, de: 1300 centímetros cúbicos.\"\n",
        "print(parrafo_4.find(\"luna\"))"
      ],
      "metadata": {
        "id": "A0i-l1RQNPjL"
      },
      "execution_count": null,
      "outputs": []
    },
    {
      "cell_type": "markdown",
      "source": [
        "El método `.find()` devuelve -1 cuando no se encuentra la palabra, o bien devuelve el índice (el número que representa la posición en la cadena)."
      ],
      "metadata": {
        "id": "wvWqY3fPN3iT"
      }
    },
    {
      "cell_type": "code",
      "source": [
        "parrafo_4 =\"El humano adulto tiene un volumen cerebral calculado en promedio, de: 1300 centímetros cúbicos.\"\n",
        "print(parrafo_4.find(\"volumen\"))"
      ],
      "metadata": {
        "id": "gVG4nYuqNrUb"
      },
      "execution_count": null,
      "outputs": []
    },
    {
      "cell_type": "markdown",
      "source": [
        "Otra manera de buscar 🔍 contenido consiste en usar el método `.count()`, que devuelve el número total de repeticiones de una palabra determinada en una cadena:"
      ],
      "metadata": {
        "id": "rR2S8DT1PdBD"
      }
    },
    {
      "cell_type": "code",
      "source": [
        "print(parrafo_4.count(\"luna\"))\n",
        "print(parrafo_4.count(\"volumen\"))"
      ],
      "metadata": {
        "id": "37fr23OGN0QZ"
      },
      "execution_count": null,
      "outputs": []
    },
    {
      "cell_type": "markdown",
      "source": [
        "✅ Recuerda que:\n",
        "\n",
        "1.   Para convertir una cadena en **letras minúsculas** utilizamos el método `.lower()`\n",
        "2.   Para convertir una cadena en **letras minúsculas** utilizamos el método `.upper()`\n",
        "\n"
      ],
      "metadata": {
        "id": "7VXX6NhWPzTS"
      }
    },
    {
      "cell_type": "code",
      "source": [
        "print(titulo.lower())\n",
        "print(titulo.upper())"
      ],
      "metadata": {
        "id": "wgjJOqT7PrML"
      },
      "execution_count": null,
      "outputs": []
    },
    {
      "cell_type": "markdown",
      "source": [
        "Hay ocasiones en las que procesarás texto para extraer información con una presentación irregular."
      ],
      "metadata": {
        "id": "UWUr-1VrQmmj"
      }
    },
    {
      "cell_type": "code",
      "source": [
        "secciones = parrafo_4.split(':')\n",
        "print(secciones)"
      ],
      "metadata": {
        "id": "juQ3M2KTQgPb"
      },
      "execution_count": null,
      "outputs": []
    },
    {
      "cell_type": "code",
      "source": [
        "print(secciones[-1])"
      ],
      "metadata": {
        "id": "woz1t1cdQ83b"
      },
      "execution_count": null,
      "outputs": []
    },
    {
      "cell_type": "markdown",
      "source": [
        "El código anterior confía en que todo lo que hay después de los dos puntos (`:`) es una cantidad. La cadena se divide en `:`, lo que **genera una lista de dos elementos**. El uso de `[-1]` en la lista **devuelve el último elemento** que, en este ejemplo, es el volumen."
      ],
      "metadata": {
        "id": "XRXKSgOqRkbU"
      }
    },
    {
      "cell_type": "markdown",
      "source": [
        "Si el texto es irregular, no puede usar los mismos métodos de división para obtener el valor. Debe recorrer en bucle los elementos y comprobar si los valores son de un tipo determinado. Python tiene métodos que ayudan a comprobar el tipo de cadena:"
      ],
      "metadata": {
        "id": "lTuAC4I0R6ya"
      }
    },
    {
      "cell_type": "code",
      "source": [
        "parrafo_5 = \"El cerebro de un adulto humano pesa en promedio, alrededor de 1400 gramos\"\n",
        "for item in parrafo_5.split(): # Uso del ciclo for 🤯\n",
        "    if item.isnumeric():\n",
        "        print(item)"
      ],
      "metadata": {
        "id": "6hZw94D2RJbL"
      },
      "execution_count": null,
      "outputs": []
    },
    {
      "cell_type": "markdown",
      "source": [
        "Como sucede con el método `.isnumeric()`, `.isdecimal()` puede buscar cadenas que parezcan decimales."
      ],
      "metadata": {
        "id": "W-xc7RjLSZkv"
      }
    },
    {
      "cell_type": "markdown",
      "source": [
        "Hay validaciones adicionales que puede aplicar en las cadenas para comprobar si hay valores al inicio o al final de un caracter utilizando los métodos: `startswith()` y .endswith():"
      ],
      "metadata": {
        "id": "GCvDplV5SuQL"
      }
    },
    {
      "cell_type": "code",
      "source": [
        "if \"1400 g\".endswith(\"g\"):\n",
        "  print(\"El peso del cerebro adulto humanos está en 'gramos'.\")"
      ],
      "metadata": {
        "id": "yWpRpMTTSDAb"
      },
      "execution_count": null,
      "outputs": []
    },
    {
      "cell_type": "markdown",
      "source": [
        "## Transformar Texto"
      ],
      "metadata": {
        "id": "DtKGSMNkVqbN"
      }
    },
    {
      "cell_type": "markdown",
      "source": [
        "Puedes usar el método `.replace()` para buscar y reemplazar repeticiones de un carácter o grupo de caracteres:"
      ],
      "metadata": {
        "id": "2MkSG8PQVtmi"
      }
    },
    {
      "cell_type": "code",
      "source": [
        "print(\"El cerebro de un adulto humano pesa en promedio, alrededor de 1400 gramos.\".replace(\"gramos\",\"g\"))"
      ],
      "metadata": {
        "id": "n6Bw3qn6Vju7"
      },
      "execution_count": null,
      "outputs": []
    },
    {
      "cell_type": "markdown",
      "source": [
        "Después de dividir el texto y realizar las transformaciones, es posible que tengas que volver a ensamblar todas las piezas. Al igual que el método `.split()` puede separar caracteres, el método `.join()` puede volver a agruparlos."
      ],
      "metadata": {
        "id": "oeehw0b3WJWK"
      }
    },
    {
      "cell_type": "code",
      "source": [
        "print(secciones)\n",
        "print(' '.join(secciones))"
      ],
      "metadata": {
        "id": "GuWFMB2zV7H8"
      },
      "execution_count": null,
      "outputs": []
    },
    {
      "cell_type": "markdown",
      "source": [
        "Se usa ' ' para unir todos los elementos de la lista."
      ],
      "metadata": {
        "id": "QYjKYiurW-hD"
      }
    },
    {
      "cell_type": "markdown",
      "source": [
        "## Formatos de Cadenas"
      ],
      "metadata": {
        "id": "5A85Yr3AXRNM"
      }
    },
    {
      "cell_type": "markdown",
      "source": [
        "### Método format()"
      ],
      "metadata": {
        "id": "u-FCJTQIZBOC"
      }
    },
    {
      "cell_type": "code",
      "source": [
        "volumen = 1300\n",
        "print(\"El humano adulto tiene un volumen cerebral calculado en promedio, de {} centímetros cúbicos.\".format(volumen))"
      ],
      "metadata": {
        "id": "63OcHs60YKNr"
      },
      "execution_count": null,
      "outputs": []
    },
    {
      "cell_type": "code",
      "source": [
        "volumen = 1300\n",
        "print(\"El humano {} tiene un volumen cerebral calculado en promedio, de {} centímetros cúbicos.\".format(\"adulto\", volumen))"
      ],
      "metadata": {
        "id": "2rPdzLNaZmLr"
      },
      "execution_count": null,
      "outputs": []
    },
    {
      "cell_type": "code",
      "source": [
        "volumen = 1300\n",
        "tipo = 'adulto'\n",
        "print(f\"El humano {tipo} tiene un volumen cerebral calculado en promedio, de {volumen} centímetros cúbicos.\")"
      ],
      "metadata": {
        "id": "Ndeb87zNZxGa"
      },
      "execution_count": null,
      "outputs": []
    },
    {
      "cell_type": "code",
      "source": [
        "tema = \"hechos interesantes acerca del cerebro humano\"\n",
        "titulo = f\"{tema.title()}\"\n",
        "print(titulo)"
      ],
      "metadata": {
        "id": "Zflay42BZ7Z7"
      },
      "execution_count": null,
      "outputs": []
    },
    {
      "cell_type": "markdown",
      "source": [
        "## Redondedo"
      ],
      "metadata": {
        "id": "xwcRJGXXetME"
      }
    },
    {
      "cell_type": "code",
      "source": [
        "print(round(14.5))\n",
        "x = round(5.76543, 2)\n",
        "print(x)"
      ],
      "metadata": {
        "id": "bKsxf0RtesNa"
      },
      "execution_count": null,
      "outputs": []
    },
    {
      "cell_type": "markdown",
      "source": [
        "### Biblioteca matemática"
      ],
      "metadata": {
        "id": "KwS1Gix0hB27"
      }
    },
    {
      "cell_type": "code",
      "source": [
        "from math import ceil, floor\n",
        "\n",
        "round_up = ceil(12.5)\n",
        "print(round_up)\n",
        "\n",
        "round_down = floor(12.5)\n",
        "print(round_down)"
      ],
      "metadata": {
        "id": "74u11WXoezZs"
      },
      "execution_count": null,
      "outputs": []
    },
    {
      "cell_type": "markdown",
      "source": [
        "Calcula la distancia entre dos planetas. Recuerda convertir a número un texto 🙋"
      ],
      "metadata": {
        "id": "QFFv0y4shxl6"
      }
    },
    {
      "cell_type": "code",
      "source": [
        "primer_planeta_entrada = input('Distancia del sol al primer planeta en km: ')\n",
        "segundo_planeta_entrada = input('Distancia del sol al segundo planeta en km: ')\n",
        "\n",
        "primer_planeta = int(primer_planeta_entrada)\n",
        "segundo_planeta = int(segundo_planeta_entrada)\n",
        "\n",
        "distance_km = segundo_planeta - primer_planeta\n",
        "print(abs(distance_km))"
      ],
      "metadata": {
        "id": "iobyEBKnhFm7"
      },
      "execution_count": null,
      "outputs": []
    },
    {
      "cell_type": "markdown",
      "source": [
        "# Listas"
      ],
      "metadata": {
        "id": "TuPkL0SykE9r"
      }
    },
    {
      "cell_type": "markdown",
      "source": [
        "Python tiene muchos tipos integrados, como cadenas y enteros. También tiene un tipo para almacenar una colección de valores: la lista."
      ],
      "metadata": {
        "id": "oU9UuTsBkU8k"
      }
    },
    {
      "cell_type": "markdown",
      "source": [
        "Para crear una lista, asigne una secuencia de valores a una variable. Cada valor está separado por una coma y están entre corchetes (`[ ]`). En el ejemplo siguiente se almacena la lista de todos los planetas de la variable planets:"
      ],
      "metadata": {
        "id": "ByX5U9v9kbEk"
      }
    },
    {
      "cell_type": "code",
      "source": [
        "planets = [\"Mercury\", \"Venus\", \"Earth\", \"Mars\", \"Jupiter\", \"Saturn\", \"Uranus\", \"Neptune\"]\n",
        "print(planets)"
      ],
      "metadata": {
        "id": "QS26gS50kGhr"
      },
      "execution_count": null,
      "outputs": []
    },
    {
      "cell_type": "code",
      "source": [
        "planets = [\"Mercury\", \"Venus\", \"Earth\", \"Mars\", \"Jupiter\", \"Saturn\", \"Uranus\", \"Neptune\"]\n",
        "print(\"The first planet is\", planets[0])\n",
        "print(\"The second planet is\", planets[1])\n",
        "print(\"The third planet is\", planets[2])"
      ],
      "metadata": {
        "id": "vPiRuOJYkpPa"
      },
      "execution_count": null,
      "outputs": []
    },
    {
      "cell_type": "code",
      "source": [
        "planets = [\"Mercury\", \"Venus\", \"Earth\", \"Mars\", \"Jupiter\", \"Saturn\", \"Uranus\", \"Neptune\"]\n",
        "planets[3] = \"Red Planet\"\n",
        "print(\"Mars is also known as\", planets[3])\n",
        "print(planets)"
      ],
      "metadata": {
        "id": "v8GKAxYGk1G6"
      },
      "execution_count": null,
      "outputs": []
    },
    {
      "cell_type": "markdown",
      "source": [
        "##Longitud de una lista"
      ],
      "metadata": {
        "id": "ZW4Bmpg9k7KL"
      }
    },
    {
      "cell_type": "markdown",
      "source": [
        "Para obtener la longitud de una lista, use la función integrada `len()`"
      ],
      "metadata": {
        "id": "YKXwmARDlAI1"
      }
    },
    {
      "cell_type": "code",
      "source": [
        "planets = [\"Mercury\", \"Venus\", \"Earth\", \"Mars\", \"Jupiter\", \"Saturn\", \"Uranus\", \"Neptune\"]\n",
        "number_of_planets = len(planets)\n",
        "print(\"There are\", number_of_planets, \"planets in the solar system.\")"
      ],
      "metadata": {
        "id": "gmkjPJz0k3CK"
      },
      "execution_count": null,
      "outputs": []
    },
    {
      "cell_type": "markdown",
      "source": [
        "##Incorporación de valores a listas"
      ],
      "metadata": {
        "id": "-b_VVxzElHPq"
      }
    },
    {
      "cell_type": "markdown",
      "source": [
        "Las listas de Python son dinámicas: puede agregar y quitar elementos después de crearlas. Para agregar un elemento a una lista, use el método `.append(value)`."
      ],
      "metadata": {
        "id": "WaG7eh28lMfq"
      }
    },
    {
      "cell_type": "code",
      "source": [
        "planets = [\"Mercury\", \"Venus\", \"Earth\", \"Mars\", \"Jupiter\", \"Saturn\", \"Uranus\", \"Neptune\"]\n",
        "planets.append(\"Pluto\")\n",
        "number_of_planets = len(planets)\n",
        "print(\"There are actually\", number_of_planets, \"planets in the solar system.\")"
      ],
      "metadata": {
        "id": "fA0QZ1DMlDZr"
      },
      "execution_count": null,
      "outputs": []
    },
    {
      "cell_type": "markdown",
      "source": [
        "##Eliminación de valores de listas"
      ],
      "metadata": {
        "id": "l-xQKHgBlaJb"
      }
    },
    {
      "cell_type": "markdown",
      "source": [
        "Puedes quitar el último elemento de una lista llamando al método `.pop()` en la variable de lista:"
      ],
      "metadata": {
        "id": "pveu-pEmldQ0"
      }
    },
    {
      "cell_type": "code",
      "source": [
        "planets = [\"Mercury\", \"Venus\", \"Earth\", \"Mars\", \"Jupiter\", \"Saturn\", \"Uranus\", \"Neptune\", \"Pluto\"]\n",
        "planets.pop()  # Goodbye, Pluto\n",
        "number_of_planets = len(planets)\n",
        "print(\"No, there are definitely\", number_of_planets, \"planets in the solar system.\")"
      ],
      "metadata": {
        "id": "uyHju_1dlX2r"
      },
      "execution_count": null,
      "outputs": []
    },
    {
      "cell_type": "markdown",
      "source": [
        " La gravedad a menudo se mide en G, donde la gravedad en la Tierra es 1 y otros planetas se miden en relación con la Tierra.\n",
        "\n",
        " La gravedad en la Luna es de 0,166 G, por este motivo los astronautas pueden saltar tan alto sobre la Luna. La gravedad en Neptuno es de 1,12 G, por lo que saltar es más difícil. Incluso los grandes atletas tendrían dificultades para saltar más de 2 metros en Neptuno."
      ],
      "metadata": {
        "id": "ELxzkw5YmcmE"
      }
    },
    {
      "cell_type": "markdown",
      "source": [
        "## Almacenamiento de números en listas"
      ],
      "metadata": {
        "id": "jlciHPKHmoLj"
      }
    },
    {
      "cell_type": "markdown",
      "source": [
        "Para almacenar números con decimales en Python, se debe usar el tipo float."
      ],
      "metadata": {
        "id": "3_mI93Uymqsi"
      }
    },
    {
      "cell_type": "code",
      "source": [
        "gravity_on_earth = 1.0\n",
        "gravity_on_the_moon = 0.166"
      ],
      "metadata": {
        "id": "ierP18FClh9b"
      },
      "execution_count": null,
      "outputs": []
    },
    {
      "cell_type": "markdown",
      "source": [
        "El siguiente código crea una lista en la que se muestran las fuerzas de los ocho planetas del sistema solar, en G:"
      ],
      "metadata": {
        "id": "iYpRVy3jmxcS"
      }
    },
    {
      "cell_type": "code",
      "source": [
        "gravity_on_planets = [0.378, 0.907, 1, 0.377, 2.36, 0.916, 0.889, 1.12]"
      ],
      "metadata": {
        "id": "Exj51T5FmuO6"
      },
      "execution_count": null,
      "outputs": []
    },
    {
      "cell_type": "markdown",
      "source": [
        "En esta lista, `gravity_on_planets[0]` es la gravedad en Mercurio (0,378 G), `gravity_on_planets[1]` es la gravedad en Venus (0,907 G), y así sucesivamente."
      ],
      "metadata": {
        "id": "DE7l3Mjgm5Z8"
      }
    },
    {
      "cell_type": "code",
      "source": [
        "print(gravity_on_planets[0])\n",
        "print(gravity_on_planets[1])"
      ],
      "metadata": {
        "id": "Go1k_vLvm0ra"
      },
      "execution_count": null,
      "outputs": []
    },
    {
      "cell_type": "markdown",
      "source": [
        "En la Tierra, un autobús de dos pisos pesa 124.054 newtons (N). En Mercurio, donde la gravedad es de 0,378 G, el mismo autobús pesa 124,054 newtons multiplicados por 0,378"
      ],
      "metadata": {
        "id": "h_GtJlJInOF7"
      }
    },
    {
      "cell_type": "code",
      "source": [
        "gravity_on_planets = [0.378, 0.907, 1, 0.377, 2.36, 0.916, 0.889, 1.12]\n",
        "bus_weight = 124054 # in Newtons, on Earth\n",
        "\n",
        "print(\"On Earth, a double-decker bus weighs\", bus_weight, \"N\")\n",
        "print(\"On Mercury, a double-decker bus weighs\", bus_weight * gravity_on_planets[0], \"N\")"
      ],
      "metadata": {
        "id": "HGEcr5bfnDGc"
      },
      "execution_count": null,
      "outputs": []
    },
    {
      "cell_type": "markdown",
      "source": [
        "##Uso de min() y max() con listas"
      ],
      "metadata": {
        "id": "SEkREtBbnVzj"
      }
    },
    {
      "cell_type": "markdown",
      "source": [
        "La función `max()` devuelve el número más grande y `min()` devuelve el más pequeño."
      ],
      "metadata": {
        "id": "A2gXcgj_ndtr"
      }
    },
    {
      "cell_type": "code",
      "source": [
        "gravity_on_planets = [0.378, 0.907, 1, 0.377, 2.36, 0.916, 0.889, 1.12]\n",
        "bus_weight = 12650 # in Newtons, on Earth\n",
        "\n",
        "print(\"On Earth, a double-decker bus weighs\", bus_weight, \"N\")\n",
        "print(\"The lightest a bus would be in the solar system is\", bus_weight * min(gravity_on_planets), \"N\")\n",
        "print(\"The heaviest a bus would be in the solar system is\", bus_weight * max(gravity_on_planets), \"N\")"
      ],
      "metadata": {
        "id": "Gv4bGcdWnTf7"
      },
      "execution_count": null,
      "outputs": []
    },
    {
      "cell_type": "markdown",
      "source": [
        "##Segmentación de listas"
      ],
      "metadata": {
        "id": "2FVzFxc1oAZU"
      }
    },
    {
      "cell_type": "markdown",
      "source": [
        "Puedes recuperar una parte de una lista mediante una segmentación. Una segmentación usa corchetes, pero en lugar de un solo elemento, tiene los índices inicial y final. Cuando se usa una segmentación, se crea una lista que comienza en el índice inicial y termina antes del índice final (y no lo incluye).\n",
        "\n",
        "La lista de planetas tiene ocho elementos. La Tierra es el tercero de la lista. Para mostrar los planetas que hay antes de la Tierra, use una segmentación a fin de obtener los elementos que empiezan en 0 y terminan en 2:"
      ],
      "metadata": {
        "id": "ExOPPs35oEgU"
      }
    },
    {
      "cell_type": "code",
      "source": [
        "planets = [\"Mercury\", \"Venus\", \"Earth\", \"Mars\", \"Jupiter\", \"Saturn\", \"Uranus\", \"Neptune\"]\n",
        "planets_before_earth = planets[0:2]\n",
        "print(planets_before_earth)"
      ],
      "metadata": {
        "id": "BZM7ZuKTnqPc"
      },
      "execution_count": null,
      "outputs": []
    },
    {
      "cell_type": "code",
      "source": [
        "planets_after_earth = planets[3:8]\n",
        "print(planets_after_earth)"
      ],
      "metadata": {
        "id": "qBO4of78oGc9"
      },
      "execution_count": null,
      "outputs": []
    },
    {
      "cell_type": "markdown",
      "source": [
        "##Combinación de listas"
      ],
      "metadata": {
        "id": "6FmfJo2_oUMb"
      }
    },
    {
      "cell_type": "markdown",
      "source": [
        "¿Has visto cómo puede usar segmentaciones para dividir listas, pero ¿qué sucede con unirlas de nuevo?\n",
        "\n",
        "Para unir dos listas, debe usar el otro operador (`+`) con dos listas para devolver una nueva.\n",
        "\n",
        "Hay 79 lunas conocidas de Júpiter. Las cuatro más grandes son Ío, Europa, Ganímedes y Calisto. Estas lunas se denominan lunas galileanas, ya que Galileo Galilei las descubrió con su telescopio en 1610. El grupo de Amaltea está más cerca de Júpiter que el grupo galileano. Consta de las lunas Metis, Adrastea, Amaltea y Tebe.\n",
        "\n",
        "Crea dos listas. Rellene la primera lista con las cuatro lunas de Amaltea y la segunda lista con las cuatro lunas galileanas. Únalas mediante `+` para crear una lista:"
      ],
      "metadata": {
        "id": "_v4etIZCoXrj"
      }
    },
    {
      "cell_type": "code",
      "source": [
        "amalthea_group = [\"Metis\", \"Adrastea\", \"Amalthea\", \"Thebe\"]\n",
        "galilean_moons = [\"Io\", \"Europa\", \"Ganymede\", \"Callisto\"]\n",
        "\n",
        "regular_satellite_moons = amalthea_group + galilean_moons\n",
        "print(\"The regular satellite moons of Jupiter are\", regular_satellite_moons)"
      ],
      "metadata": {
        "id": "YHBit60_oLX8"
      },
      "execution_count": null,
      "outputs": []
    },
    {
      "cell_type": "markdown",
      "source": [
        "##Ordenación de listas"
      ],
      "metadata": {
        "id": "fWGMlQ5_ootT"
      }
    },
    {
      "cell_type": "markdown",
      "source": [
        "Para ordenar una lista, use el método `.sort() `de la lista. Python ordena una lista de cadenas en orden alfabético y una lista de números en orden numérico:"
      ],
      "metadata": {
        "id": "wUHHRBIborsE"
      }
    },
    {
      "cell_type": "code",
      "source": [
        "regular_satellite_moons.sort()\n",
        "print(\"The regular satellite moons of Jupiter are\", regular_satellite_moons)"
      ],
      "metadata": {
        "id": "umYGJDOWok9M"
      },
      "execution_count": null,
      "outputs": []
    },
    {
      "cell_type": "markdown",
      "source": [
        "Para ordenar una lista en orden inverso, llame a `.sort(reverse=True)` en la lista:"
      ],
      "metadata": {
        "id": "msDHvL4jo0sE"
      }
    },
    {
      "cell_type": "code",
      "source": [
        "amalthea_group = [\"Metis\", \"Adrastea\", \"Amalthea\", \"Thebe\"]\n",
        "galilean_moons = [\"Io\", \"Europa\", \"Ganymede\", \"Callisto\"]\n",
        "\n",
        "regular_satellite_moons = amalthea_group + galilean_moons\n",
        "regular_satellite_moons.sort(reverse=True)\n",
        "print(\"The regular satellite moons of Jupiter are\", regular_satellite_moons)"
      ],
      "metadata": {
        "id": "kFDskn18ou28"
      },
      "execution_count": null,
      "outputs": []
    }
  ]
}